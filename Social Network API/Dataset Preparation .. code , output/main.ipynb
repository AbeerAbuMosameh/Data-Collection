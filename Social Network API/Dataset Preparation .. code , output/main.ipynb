{
 "cells": [
  {
   "cell_type": "code",
   "execution_count": 1,
   "id": "641d4ddc-73cb-40c8-aa5e-2d282f32465e",
   "metadata": {},
   "outputs": [],
   "source": [
    "# Import libraries used in data preparation\n",
    "import pandas as pd"
   ]
  },
  {
   "cell_type": "code",
   "execution_count": 2,
   "id": "aa7d8915-f431-4ab2-9b82-abd9259fcda9",
   "metadata": {},
   "outputs": [
    {
     "data": {
      "text/html": [
       "<div>\n",
       "<style scoped>\n",
       "    .dataframe tbody tr th:only-of-type {\n",
       "        vertical-align: middle;\n",
       "    }\n",
       "\n",
       "    .dataframe tbody tr th {\n",
       "        vertical-align: top;\n",
       "    }\n",
       "\n",
       "    .dataframe thead th {\n",
       "        text-align: right;\n",
       "    }\n",
       "</style>\n",
       "<table border=\"1\" class=\"dataframe\">\n",
       "  <thead>\n",
       "    <tr style=\"text-align: right;\">\n",
       "      <th></th>\n",
       "      <th>index</th>\n",
       "      <th>title</th>\n",
       "      <th>description</th>\n",
       "      <th>publish_date</th>\n",
       "      <th>publish_time</th>\n",
       "      <th>likes</th>\n",
       "      <th>views</th>\n",
       "      <th>category</th>\n",
       "      <th>channel_id</th>\n",
       "    </tr>\n",
       "  </thead>\n",
       "  <tbody>\n",
       "    <tr>\n",
       "      <th>0</th>\n",
       "      <td>1</td>\n",
       "      <td>Joe Biden congratulates Donald Trump as pair s...</td>\n",
       "      <td>NaN</td>\n",
       "      <td>2024-11-13</td>\n",
       "      <td>19:00:32</td>\n",
       "      <td>2167</td>\n",
       "      <td>73267</td>\n",
       "      <td>news</td>\n",
       "      <td>UC16niRr50-MSBwiO3YDb3RA</td>\n",
       "    </tr>\n",
       "    <tr>\n",
       "      <th>1</th>\n",
       "      <td>2</td>\n",
       "      <td>The Queen vs The President: \"Boom\" - BBC News</td>\n",
       "      <td>The Queen and Prince Harry have responded to B...</td>\n",
       "      <td>2016-04-29</td>\n",
       "      <td>17:59:12</td>\n",
       "      <td>79031</td>\n",
       "      <td>4319639</td>\n",
       "      <td>news</td>\n",
       "      <td>UC16niRr50-MSBwiO3YDb3RA</td>\n",
       "    </tr>\n",
       "    <tr>\n",
       "      <th>2</th>\n",
       "      <td>3</td>\n",
       "      <td>Science rejuvenates woman's skin cells to 30 y...</td>\n",
       "      <td>Researchers have rejuvenated a 53-year-old wom...</td>\n",
       "      <td>2022-04-08</td>\n",
       "      <td>19:00:11</td>\n",
       "      <td>32469</td>\n",
       "      <td>1099386</td>\n",
       "      <td>news</td>\n",
       "      <td>UC16niRr50-MSBwiO3YDb3RA</td>\n",
       "    </tr>\n",
       "    <tr>\n",
       "      <th>3</th>\n",
       "      <td>4</td>\n",
       "      <td>World’s largest coral found in Pacific Ocean |...</td>\n",
       "      <td>The largest coral ever recorded has been found...</td>\n",
       "      <td>2024-11-16</td>\n",
       "      <td>18:00:00</td>\n",
       "      <td>1871</td>\n",
       "      <td>189218</td>\n",
       "      <td>news</td>\n",
       "      <td>UC16niRr50-MSBwiO3YDb3RA</td>\n",
       "    </tr>\n",
       "    <tr>\n",
       "      <th>4</th>\n",
       "      <td>5</td>\n",
       "      <td>Dinosaur fossil from asteroid strike that caus...</td>\n",
       "      <td>A dinosaur's leg, stunningly preserved, has be...</td>\n",
       "      <td>2022-04-07</td>\n",
       "      <td>13:00:31</td>\n",
       "      <td>54317</td>\n",
       "      <td>2281702</td>\n",
       "      <td>news</td>\n",
       "      <td>UC16niRr50-MSBwiO3YDb3RA</td>\n",
       "    </tr>\n",
       "    <tr>\n",
       "      <th>...</th>\n",
       "      <td>...</td>\n",
       "      <td>...</td>\n",
       "      <td>...</td>\n",
       "      <td>...</td>\n",
       "      <td>...</td>\n",
       "      <td>...</td>\n",
       "      <td>...</td>\n",
       "      <td>...</td>\n",
       "      <td>...</td>\n",
       "    </tr>\n",
       "    <tr>\n",
       "      <th>1195</th>\n",
       "      <td>1196</td>\n",
       "      <td>If You're Happy arabic no music (learn arabic)...</td>\n",
       "      <td>If You're Happy arabic no music (learn arabic)...</td>\n",
       "      <td>2018-01-07</td>\n",
       "      <td>08:25:45</td>\n",
       "      <td>1991</td>\n",
       "      <td>1204353</td>\n",
       "      <td>children</td>\n",
       "      <td>UCWIdqSQekeGmUWlSFeCiEnA</td>\n",
       "    </tr>\n",
       "    <tr>\n",
       "      <th>1196</th>\n",
       "      <td>1197</td>\n",
       "      <td>أنشودة توت توت بدون موسيقى</td>\n",
       "      <td>أنشودة توت توت بدون موسيقى \\n\\nاشتركوا معنا با...</td>\n",
       "      <td>2019-08-29</td>\n",
       "      <td>18:03:35</td>\n",
       "      <td>128068</td>\n",
       "      <td>30724511</td>\n",
       "      <td>children</td>\n",
       "      <td>UCWIdqSQekeGmUWlSFeCiEnA</td>\n",
       "    </tr>\n",
       "    <tr>\n",
       "      <th>1197</th>\n",
       "      <td>1198</td>\n",
       "      <td>أنشودة الخضروات - السيدة بطاطا بدون موسيقى - ق...</td>\n",
       "      <td>أنشودة الخضروات  -  السيدة بطاطا بدون موسيقى -...</td>\n",
       "      <td>2019-11-08</td>\n",
       "      <td>16:09:45</td>\n",
       "      <td>11687</td>\n",
       "      <td>6161082</td>\n",
       "      <td>children</td>\n",
       "      <td>UCWIdqSQekeGmUWlSFeCiEnA</td>\n",
       "    </tr>\n",
       "    <tr>\n",
       "      <th>1198</th>\n",
       "      <td>1199</td>\n",
       "      <td>أغنية سباق الأرنب والسلحفاة  - أغاني أطفال بال...</td>\n",
       "      <td>أغنية الأرنب والسلحفاة  - أغاني أطفال باللغة ا...</td>\n",
       "      <td>2020-06-29</td>\n",
       "      <td>13:14:12</td>\n",
       "      <td>136618</td>\n",
       "      <td>86745467</td>\n",
       "      <td>children</td>\n",
       "      <td>UCWIdqSQekeGmUWlSFeCiEnA</td>\n",
       "    </tr>\n",
       "    <tr>\n",
       "      <th>1199</th>\n",
       "      <td>1200</td>\n",
       "      <td>Islamic cartoon for kids in english - The Secr...</td>\n",
       "      <td>Osratouna entertains &amp; educates your child wit...</td>\n",
       "      <td>2018-09-12</td>\n",
       "      <td>13:22:59</td>\n",
       "      <td>1632</td>\n",
       "      <td>389924</td>\n",
       "      <td>children</td>\n",
       "      <td>UCWIdqSQekeGmUWlSFeCiEnA</td>\n",
       "    </tr>\n",
       "  </tbody>\n",
       "</table>\n",
       "<p>1200 rows × 9 columns</p>\n",
       "</div>"
      ],
      "text/plain": [
       "      index                                              title  \\\n",
       "0         1  Joe Biden congratulates Donald Trump as pair s...   \n",
       "1         2      The Queen vs The President: \"Boom\" - BBC News   \n",
       "2         3  Science rejuvenates woman's skin cells to 30 y...   \n",
       "3         4  World’s largest coral found in Pacific Ocean |...   \n",
       "4         5  Dinosaur fossil from asteroid strike that caus...   \n",
       "...     ...                                                ...   \n",
       "1195   1196  If You're Happy arabic no music (learn arabic)...   \n",
       "1196   1197                         أنشودة توت توت بدون موسيقى   \n",
       "1197   1198  أنشودة الخضروات - السيدة بطاطا بدون موسيقى - ق...   \n",
       "1198   1199  أغنية سباق الأرنب والسلحفاة  - أغاني أطفال بال...   \n",
       "1199   1200  Islamic cartoon for kids in english - The Secr...   \n",
       "\n",
       "                                            description publish_date  \\\n",
       "0                                                   NaN   2024-11-13   \n",
       "1     The Queen and Prince Harry have responded to B...   2016-04-29   \n",
       "2     Researchers have rejuvenated a 53-year-old wom...   2022-04-08   \n",
       "3     The largest coral ever recorded has been found...   2024-11-16   \n",
       "4     A dinosaur's leg, stunningly preserved, has be...   2022-04-07   \n",
       "...                                                 ...          ...   \n",
       "1195  If You're Happy arabic no music (learn arabic)...   2018-01-07   \n",
       "1196  أنشودة توت توت بدون موسيقى \\n\\nاشتركوا معنا با...   2019-08-29   \n",
       "1197  أنشودة الخضروات  -  السيدة بطاطا بدون موسيقى -...   2019-11-08   \n",
       "1198  أغنية الأرنب والسلحفاة  - أغاني أطفال باللغة ا...   2020-06-29   \n",
       "1199  Osratouna entertains & educates your child wit...   2018-09-12   \n",
       "\n",
       "     publish_time   likes     views  category                channel_id  \n",
       "0        19:00:32    2167     73267      news  UC16niRr50-MSBwiO3YDb3RA  \n",
       "1        17:59:12   79031   4319639      news  UC16niRr50-MSBwiO3YDb3RA  \n",
       "2        19:00:11   32469   1099386      news  UC16niRr50-MSBwiO3YDb3RA  \n",
       "3        18:00:00    1871    189218      news  UC16niRr50-MSBwiO3YDb3RA  \n",
       "4        13:00:31   54317   2281702      news  UC16niRr50-MSBwiO3YDb3RA  \n",
       "...           ...     ...       ...       ...                       ...  \n",
       "1195     08:25:45    1991   1204353  children  UCWIdqSQekeGmUWlSFeCiEnA  \n",
       "1196     18:03:35  128068  30724511  children  UCWIdqSQekeGmUWlSFeCiEnA  \n",
       "1197     16:09:45   11687   6161082  children  UCWIdqSQekeGmUWlSFeCiEnA  \n",
       "1198     13:14:12  136618  86745467  children  UCWIdqSQekeGmUWlSFeCiEnA  \n",
       "1199     13:22:59    1632    389924  children  UCWIdqSQekeGmUWlSFeCiEnA  \n",
       "\n",
       "[1200 rows x 9 columns]"
      ]
     },
     "execution_count": 2,
     "metadata": {},
     "output_type": "execute_result"
    }
   ],
   "source": [
    "# Load the youtube_videos dataset .. in same folder\n",
    "dataset = pd.read_csv(\"youtube_videos.csv\") #load dataset into DataFrame\n",
    "dataset # ensure read it successfully"
   ]
  },
  {
   "cell_type": "code",
   "execution_count": 3,
   "id": "e58b866a-48ff-48fd-8e3d-9ce221e46c36",
   "metadata": {},
   "outputs": [
    {
     "data": {
      "text/plain": [
       "(1200, 9)"
      ]
     },
     "execution_count": 3,
     "metadata": {},
     "output_type": "execute_result"
    }
   ],
   "source": [
    "# get the dataset Size\n",
    "size = dataset.shape\n",
    "size "
   ]
  },
  {
   "cell_type": "code",
   "execution_count": 4,
   "id": "d93c1612-807d-44d3-ba57-b6ec0e2e9387",
   "metadata": {},
   "outputs": [
    {
     "data": {
      "text/plain": [
       "2"
      ]
     },
     "execution_count": 4,
     "metadata": {},
     "output_type": "execute_result"
    }
   ],
   "source": [
    "# get the dataset dimension\n",
    "dimension = dataset.ndim\n",
    "dimension"
   ]
  },
  {
   "cell_type": "code",
   "execution_count": 5,
   "id": "268bbaf1-663f-4346-b127-a2c132cf2c9c",
   "metadata": {},
   "outputs": [
    {
     "data": {
      "text/plain": [
       "Index(['index', 'title', 'description', 'publish_date', 'publish_time',\n",
       "       'likes', 'views', 'category', 'channel_id'],\n",
       "      dtype='object')"
      ]
     },
     "execution_count": 5,
     "metadata": {},
     "output_type": "execute_result"
    }
   ],
   "source": [
    "# get columns' titles\n",
    "titles = dataset.columns\n",
    "titles"
   ]
  },
  {
   "cell_type": "code",
   "execution_count": 6,
   "id": "2c0230d5-5f07-4b40-864b-2cb8c1b5465f",
   "metadata": {},
   "outputs": [
    {
     "data": {
      "text/html": [
       "<div>\n",
       "<style scoped>\n",
       "    .dataframe tbody tr th:only-of-type {\n",
       "        vertical-align: middle;\n",
       "    }\n",
       "\n",
       "    .dataframe tbody tr th {\n",
       "        vertical-align: top;\n",
       "    }\n",
       "\n",
       "    .dataframe thead th {\n",
       "        text-align: right;\n",
       "    }\n",
       "</style>\n",
       "<table border=\"1\" class=\"dataframe\">\n",
       "  <thead>\n",
       "    <tr style=\"text-align: right;\">\n",
       "      <th></th>\n",
       "      <th>index</th>\n",
       "      <th>title</th>\n",
       "      <th>description</th>\n",
       "      <th>publish_date</th>\n",
       "      <th>publish_time</th>\n",
       "      <th>likes</th>\n",
       "      <th>views</th>\n",
       "      <th>category</th>\n",
       "      <th>channel_id</th>\n",
       "    </tr>\n",
       "  </thead>\n",
       "  <tbody>\n",
       "    <tr>\n",
       "      <th>0</th>\n",
       "      <td>1</td>\n",
       "      <td>Joe Biden congratulates Donald Trump as pair s...</td>\n",
       "      <td>NaN</td>\n",
       "      <td>2024-11-13</td>\n",
       "      <td>19:00:32</td>\n",
       "      <td>2167</td>\n",
       "      <td>73267</td>\n",
       "      <td>news</td>\n",
       "      <td>UC16niRr50-MSBwiO3YDb3RA</td>\n",
       "    </tr>\n",
       "    <tr>\n",
       "      <th>1</th>\n",
       "      <td>2</td>\n",
       "      <td>The Queen vs The President: \"Boom\" - BBC News</td>\n",
       "      <td>The Queen and Prince Harry have responded to B...</td>\n",
       "      <td>2016-04-29</td>\n",
       "      <td>17:59:12</td>\n",
       "      <td>79031</td>\n",
       "      <td>4319639</td>\n",
       "      <td>news</td>\n",
       "      <td>UC16niRr50-MSBwiO3YDb3RA</td>\n",
       "    </tr>\n",
       "    <tr>\n",
       "      <th>2</th>\n",
       "      <td>3</td>\n",
       "      <td>Science rejuvenates woman's skin cells to 30 y...</td>\n",
       "      <td>Researchers have rejuvenated a 53-year-old wom...</td>\n",
       "      <td>2022-04-08</td>\n",
       "      <td>19:00:11</td>\n",
       "      <td>32469</td>\n",
       "      <td>1099386</td>\n",
       "      <td>news</td>\n",
       "      <td>UC16niRr50-MSBwiO3YDb3RA</td>\n",
       "    </tr>\n",
       "    <tr>\n",
       "      <th>3</th>\n",
       "      <td>4</td>\n",
       "      <td>World’s largest coral found in Pacific Ocean |...</td>\n",
       "      <td>The largest coral ever recorded has been found...</td>\n",
       "      <td>2024-11-16</td>\n",
       "      <td>18:00:00</td>\n",
       "      <td>1871</td>\n",
       "      <td>189218</td>\n",
       "      <td>news</td>\n",
       "      <td>UC16niRr50-MSBwiO3YDb3RA</td>\n",
       "    </tr>\n",
       "    <tr>\n",
       "      <th>4</th>\n",
       "      <td>5</td>\n",
       "      <td>Dinosaur fossil from asteroid strike that caus...</td>\n",
       "      <td>A dinosaur's leg, stunningly preserved, has be...</td>\n",
       "      <td>2022-04-07</td>\n",
       "      <td>13:00:31</td>\n",
       "      <td>54317</td>\n",
       "      <td>2281702</td>\n",
       "      <td>news</td>\n",
       "      <td>UC16niRr50-MSBwiO3YDb3RA</td>\n",
       "    </tr>\n",
       "  </tbody>\n",
       "</table>\n",
       "</div>"
      ],
      "text/plain": [
       "   index                                              title  \\\n",
       "0      1  Joe Biden congratulates Donald Trump as pair s...   \n",
       "1      2      The Queen vs The President: \"Boom\" - BBC News   \n",
       "2      3  Science rejuvenates woman's skin cells to 30 y...   \n",
       "3      4  World’s largest coral found in Pacific Ocean |...   \n",
       "4      5  Dinosaur fossil from asteroid strike that caus...   \n",
       "\n",
       "                                         description publish_date  \\\n",
       "0                                                NaN   2024-11-13   \n",
       "1  The Queen and Prince Harry have responded to B...   2016-04-29   \n",
       "2  Researchers have rejuvenated a 53-year-old wom...   2022-04-08   \n",
       "3  The largest coral ever recorded has been found...   2024-11-16   \n",
       "4  A dinosaur's leg, stunningly preserved, has be...   2022-04-07   \n",
       "\n",
       "  publish_time  likes    views category                channel_id  \n",
       "0     19:00:32   2167    73267     news  UC16niRr50-MSBwiO3YDb3RA  \n",
       "1     17:59:12  79031  4319639     news  UC16niRr50-MSBwiO3YDb3RA  \n",
       "2     19:00:11  32469  1099386     news  UC16niRr50-MSBwiO3YDb3RA  \n",
       "3     18:00:00   1871   189218     news  UC16niRr50-MSBwiO3YDb3RA  \n",
       "4     13:00:31  54317  2281702     news  UC16niRr50-MSBwiO3YDb3RA  "
      ]
     },
     "execution_count": 6,
     "metadata": {},
     "output_type": "execute_result"
    }
   ],
   "source": [
    "# Step 1 : Data Exploration\n",
    "# Display the first 5 rows of the dataset using head method \n",
    "dataset.head()"
   ]
  },
  {
   "cell_type": "code",
   "execution_count": 7,
   "id": "344b0f87-0421-4c3d-866d-e6c09fcf32dc",
   "metadata": {},
   "outputs": [
    {
     "name": "stdout",
     "output_type": "stream",
     "text": [
      "<class 'pandas.core.frame.DataFrame'>\n",
      "RangeIndex: 1200 entries, 0 to 1199\n",
      "Data columns (total 9 columns):\n",
      " #   Column        Non-Null Count  Dtype \n",
      "---  ------        --------------  ----- \n",
      " 0   index         1200 non-null   int64 \n",
      " 1   title         1200 non-null   object\n",
      " 2   description   1167 non-null   object\n",
      " 3   publish_date  1200 non-null   object\n",
      " 4   publish_time  1200 non-null   object\n",
      " 5   likes         1200 non-null   int64 \n",
      " 6   views         1200 non-null   int64 \n",
      " 7   category      1200 non-null   object\n",
      " 8   channel_id    1200 non-null   object\n",
      "dtypes: int64(3), object(6)\n",
      "memory usage: 84.5+ KB\n"
     ]
    }
   ],
   "source": [
    "# Display information about the dataset\n",
    "dataset.info() "
   ]
  },
  {
   "cell_type": "code",
   "execution_count": 8,
   "id": "7cbe58a6-23ed-47e7-9d6b-cf011d26f90c",
   "metadata": {},
   "outputs": [
    {
     "data": {
      "text/html": [
       "<div>\n",
       "<style scoped>\n",
       "    .dataframe tbody tr th:only-of-type {\n",
       "        vertical-align: middle;\n",
       "    }\n",
       "\n",
       "    .dataframe tbody tr th {\n",
       "        vertical-align: top;\n",
       "    }\n",
       "\n",
       "    .dataframe thead th {\n",
       "        text-align: right;\n",
       "    }\n",
       "</style>\n",
       "<table border=\"1\" class=\"dataframe\">\n",
       "  <thead>\n",
       "    <tr style=\"text-align: right;\">\n",
       "      <th></th>\n",
       "      <th>index</th>\n",
       "      <th>likes</th>\n",
       "      <th>views</th>\n",
       "    </tr>\n",
       "  </thead>\n",
       "  <tbody>\n",
       "    <tr>\n",
       "      <th>count</th>\n",
       "      <td>1200.000000</td>\n",
       "      <td>1.200000e+03</td>\n",
       "      <td>1.200000e+03</td>\n",
       "    </tr>\n",
       "    <tr>\n",
       "      <th>mean</th>\n",
       "      <td>600.500000</td>\n",
       "      <td>3.221288e+04</td>\n",
       "      <td>7.381537e+06</td>\n",
       "    </tr>\n",
       "    <tr>\n",
       "      <th>std</th>\n",
       "      <td>346.554469</td>\n",
       "      <td>1.145511e+05</td>\n",
       "      <td>3.574763e+07</td>\n",
       "    </tr>\n",
       "    <tr>\n",
       "      <th>min</th>\n",
       "      <td>1.000000</td>\n",
       "      <td>0.000000e+00</td>\n",
       "      <td>9.000000e+00</td>\n",
       "    </tr>\n",
       "    <tr>\n",
       "      <th>25%</th>\n",
       "      <td>300.750000</td>\n",
       "      <td>2.322500e+02</td>\n",
       "      <td>1.650100e+04</td>\n",
       "    </tr>\n",
       "    <tr>\n",
       "      <th>50%</th>\n",
       "      <td>600.500000</td>\n",
       "      <td>2.140000e+03</td>\n",
       "      <td>2.709995e+05</td>\n",
       "    </tr>\n",
       "    <tr>\n",
       "      <th>75%</th>\n",
       "      <td>900.250000</td>\n",
       "      <td>1.114850e+04</td>\n",
       "      <td>1.226443e+06</td>\n",
       "    </tr>\n",
       "    <tr>\n",
       "      <th>max</th>\n",
       "      <td>1200.000000</td>\n",
       "      <td>1.662526e+06</td>\n",
       "      <td>6.675060e+08</td>\n",
       "    </tr>\n",
       "  </tbody>\n",
       "</table>\n",
       "</div>"
      ],
      "text/plain": [
       "             index         likes         views\n",
       "count  1200.000000  1.200000e+03  1.200000e+03\n",
       "mean    600.500000  3.221288e+04  7.381537e+06\n",
       "std     346.554469  1.145511e+05  3.574763e+07\n",
       "min       1.000000  0.000000e+00  9.000000e+00\n",
       "25%     300.750000  2.322500e+02  1.650100e+04\n",
       "50%     600.500000  2.140000e+03  2.709995e+05\n",
       "75%     900.250000  1.114850e+04  1.226443e+06\n",
       "max    1200.000000  1.662526e+06  6.675060e+08"
      ]
     },
     "execution_count": 8,
     "metadata": {},
     "output_type": "execute_result"
    }
   ],
   "source": [
    "# Display descriptive statistics of the dataset \"for numeric columns\"\n",
    "dataset.describe() "
   ]
  },
  {
   "cell_type": "code",
   "execution_count": 9,
   "id": "2600c9d2-9311-4794-ac72-d80c9d36fe10",
   "metadata": {},
   "outputs": [
    {
     "data": {
      "text/plain": [
       "index            int64\n",
       "title           object\n",
       "description     object\n",
       "publish_date    object\n",
       "publish_time    object\n",
       "likes            int64\n",
       "views            int64\n",
       "category        object\n",
       "channel_id      object\n",
       "dtype: object"
      ]
     },
     "execution_count": 9,
     "metadata": {},
     "output_type": "execute_result"
    }
   ],
   "source": [
    "dataset.dtypes"
   ]
  },
  {
   "cell_type": "code",
   "execution_count": 10,
   "id": "55a0c9b8-1fa7-48a1-8995-f5e037bf4aac",
   "metadata": {},
   "outputs": [
    {
     "data": {
      "text/plain": [
       "array([[<Axes: title={'center': 'likes'}>,\n",
       "        <Axes: title={'center': 'views'}>]], dtype=object)"
      ]
     },
     "execution_count": 10,
     "metadata": {},
     "output_type": "execute_result"
    },
    {
     "data": {
      "image/png": "[encoded data removed]",
      "text/plain": [
       "<Figure size 1000x500 with 2 Axes>"
      ]
     },
     "metadata": {},
     "output_type": "display_data"
    }
   ],
   "source": [
    "dataset[['likes', 'views']].hist(figsize=(10, 5))"
   ]
  },
  {
   "cell_type": "code",
   "execution_count": 11,
   "id": "3c86db86-fe5d-4e0e-9a9e-b7615f2084d7",
   "metadata": {},
   "outputs": [
    {
     "data": {
      "text/plain": [
       "<Axes: >"
      ]
     },
     "execution_count": 11,
     "metadata": {},
     "output_type": "execute_result"
    },
    {
     "data": {
      "image/png": "[encoded data removed]",
      "text/plain": [
       "<Figure size 640x480 with 1 Axes>"
      ]
     },
     "metadata": {},
     "output_type": "display_data"
    }
   ],
   "source": [
    "dataset.boxplot()"
   ]
  },
  {
   "cell_type": "code",
   "execution_count": 12,
   "id": "01d9a3d8-e525-4d42-bdd0-1d10c4e487a6",
   "metadata": {},
   "outputs": [
    {
     "data": {
      "text/plain": [
       "index            0\n",
       "title            0\n",
       "description     33\n",
       "publish_date     0\n",
       "publish_time     0\n",
       "likes            0\n",
       "views            0\n",
       "category         0\n",
       "channel_id       0\n",
       "dtype: int64"
      ]
     },
     "execution_count": 12,
     "metadata": {},
     "output_type": "execute_result"
    }
   ],
   "source": [
    "# Step 2 : Data Cleaning\n",
    "\n",
    "#count missing values in each attribute\n",
    "dataset.isnull().sum() #or pd.DataFrame({'missing': dataset.isnull().sum()})"
   ]
  },
  {
   "cell_type": "code",
   "execution_count": 13,
   "id": "3ab71900-bf1d-4c89-b237-f07374580070",
   "metadata": {},
   "outputs": [
    {
     "data": {
      "text/plain": [
       "index           0\n",
       "title           0\n",
       "description     0\n",
       "publish_date    0\n",
       "publish_time    0\n",
       "likes           0\n",
       "views           0\n",
       "category        0\n",
       "channel_id      0\n",
       "dtype: int64"
      ]
     },
     "execution_count": 13,
     "metadata": {},
     "output_type": "execute_result"
    }
   ],
   "source": [
    "# handel missing values in description\n",
    "dataset['description'] = dataset['description'].fillna('No description available')\n",
    "\n",
    "dataset.isnull().sum()"
   ]
  },
  {
   "cell_type": "code",
   "execution_count": 14,
   "id": "2dff99ba-d56a-403c-816a-3d071dbbc773",
   "metadata": {},
   "outputs": [
    {
     "data": {
      "text/plain": [
       "0       False\n",
       "1       False\n",
       "2       False\n",
       "3       False\n",
       "4       False\n",
       "        ...  \n",
       "1195    False\n",
       "1196    False\n",
       "1197    False\n",
       "1198    False\n",
       "1199    False\n",
       "Length: 1200, dtype: bool"
      ]
     },
     "execution_count": 14,
     "metadata": {},
     "output_type": "execute_result"
    }
   ],
   "source": [
    "dataset.duplicated()"
   ]
  },
  {
   "cell_type": "code",
   "execution_count": 15,
   "id": "4220fc81-dd35-49ea-a2f8-22e650a4b7a3",
   "metadata": {},
   "outputs": [
    {
     "name": "stdout",
     "output_type": "stream",
     "text": [
      "<class 'pandas.core.frame.DataFrame'>\n",
      "RangeIndex: 1200 entries, 0 to 1199\n",
      "Data columns (total 9 columns):\n",
      " #   Column        Non-Null Count  Dtype \n",
      "---  ------        --------------  ----- \n",
      " 0   index         1200 non-null   int64 \n",
      " 1   title         1200 non-null   object\n",
      " 2   description   1200 non-null   object\n",
      " 3   publish_date  1200 non-null   object\n",
      " 4   publish_time  1200 non-null   object\n",
      " 5   likes         1200 non-null   int64 \n",
      " 6   views         1200 non-null   int64 \n",
      " 7   category      1200 non-null   object\n",
      " 8   channel_id    1200 non-null   object\n",
      "dtypes: int64(3), object(6)\n",
      "memory usage: 84.5+ KB\n"
     ]
    }
   ],
   "source": [
    "# Remove duplicates if exsist but we ensure no dupliaction\n",
    "dataset = dataset.drop_duplicates()\n",
    "\n",
    "dataset.info()"
   ]
  },
  {
   "cell_type": "code",
   "execution_count": 16,
   "id": "fd16a8ef-2f50-498e-995a-cee578231dfb",
   "metadata": {},
   "outputs": [
    {
     "data": {
      "text/html": [
       "<div>\n",
       "<style scoped>\n",
       "    .dataframe tbody tr th:only-of-type {\n",
       "        vertical-align: middle;\n",
       "    }\n",
       "\n",
       "    .dataframe tbody tr th {\n",
       "        vertical-align: top;\n",
       "    }\n",
       "\n",
       "    .dataframe thead th {\n",
       "        text-align: right;\n",
       "    }\n",
       "</style>\n",
       "<table border=\"1\" class=\"dataframe\">\n",
       "  <thead>\n",
       "    <tr style=\"text-align: right;\">\n",
       "      <th></th>\n",
       "      <th>index</th>\n",
       "      <th>title</th>\n",
       "      <th>description</th>\n",
       "      <th>publish_date</th>\n",
       "      <th>publish_time</th>\n",
       "      <th>likes</th>\n",
       "      <th>views</th>\n",
       "      <th>category</th>\n",
       "      <th>channel_id</th>\n",
       "    </tr>\n",
       "  </thead>\n",
       "  <tbody>\n",
       "    <tr>\n",
       "      <th>count</th>\n",
       "      <td>1200.000000</td>\n",
       "      <td>1200</td>\n",
       "      <td>1200</td>\n",
       "      <td>1200</td>\n",
       "      <td>1200</td>\n",
       "      <td>1.200000e+03</td>\n",
       "      <td>1.200000e+03</td>\n",
       "      <td>1200</td>\n",
       "      <td>1200</td>\n",
       "    </tr>\n",
       "    <tr>\n",
       "      <th>unique</th>\n",
       "      <td>NaN</td>\n",
       "      <td>1163</td>\n",
       "      <td>966</td>\n",
       "      <td>769</td>\n",
       "      <td>1020</td>\n",
       "      <td>NaN</td>\n",
       "      <td>NaN</td>\n",
       "      <td>5</td>\n",
       "      <td>6</td>\n",
       "    </tr>\n",
       "    <tr>\n",
       "      <th>top</th>\n",
       "      <td>NaN</td>\n",
       "      <td>فيلم 3D</td>\n",
       "      <td>To license ISU footage: https://bit.ly/3M7bcaF...</td>\n",
       "      <td>2024-11-22</td>\n",
       "      <td>17:00:02</td>\n",
       "      <td>NaN</td>\n",
       "      <td>NaN</td>\n",
       "      <td>news</td>\n",
       "      <td>UC16niRr50-MSBwiO3YDb3RA</td>\n",
       "    </tr>\n",
       "    <tr>\n",
       "      <th>freq</th>\n",
       "      <td>NaN</td>\n",
       "      <td>4</td>\n",
       "      <td>53</td>\n",
       "      <td>28</td>\n",
       "      <td>10</td>\n",
       "      <td>NaN</td>\n",
       "      <td>NaN</td>\n",
       "      <td>400</td>\n",
       "      <td>200</td>\n",
       "    </tr>\n",
       "    <tr>\n",
       "      <th>mean</th>\n",
       "      <td>600.500000</td>\n",
       "      <td>NaN</td>\n",
       "      <td>NaN</td>\n",
       "      <td>NaN</td>\n",
       "      <td>NaN</td>\n",
       "      <td>3.221288e+04</td>\n",
       "      <td>7.381537e+06</td>\n",
       "      <td>NaN</td>\n",
       "      <td>NaN</td>\n",
       "    </tr>\n",
       "    <tr>\n",
       "      <th>std</th>\n",
       "      <td>346.554469</td>\n",
       "      <td>NaN</td>\n",
       "      <td>NaN</td>\n",
       "      <td>NaN</td>\n",
       "      <td>NaN</td>\n",
       "      <td>1.145511e+05</td>\n",
       "      <td>3.574763e+07</td>\n",
       "      <td>NaN</td>\n",
       "      <td>NaN</td>\n",
       "    </tr>\n",
       "    <tr>\n",
       "      <th>min</th>\n",
       "      <td>1.000000</td>\n",
       "      <td>NaN</td>\n",
       "      <td>NaN</td>\n",
       "      <td>NaN</td>\n",
       "      <td>NaN</td>\n",
       "      <td>0.000000e+00</td>\n",
       "      <td>9.000000e+00</td>\n",
       "      <td>NaN</td>\n",
       "      <td>NaN</td>\n",
       "    </tr>\n",
       "    <tr>\n",
       "      <th>25%</th>\n",
       "      <td>300.750000</td>\n",
       "      <td>NaN</td>\n",
       "      <td>NaN</td>\n",
       "      <td>NaN</td>\n",
       "      <td>NaN</td>\n",
       "      <td>2.322500e+02</td>\n",
       "      <td>1.650100e+04</td>\n",
       "      <td>NaN</td>\n",
       "      <td>NaN</td>\n",
       "    </tr>\n",
       "    <tr>\n",
       "      <th>50%</th>\n",
       "      <td>600.500000</td>\n",
       "      <td>NaN</td>\n",
       "      <td>NaN</td>\n",
       "      <td>NaN</td>\n",
       "      <td>NaN</td>\n",
       "      <td>2.140000e+03</td>\n",
       "      <td>2.709995e+05</td>\n",
       "      <td>NaN</td>\n",
       "      <td>NaN</td>\n",
       "    </tr>\n",
       "    <tr>\n",
       "      <th>75%</th>\n",
       "      <td>900.250000</td>\n",
       "      <td>NaN</td>\n",
       "      <td>NaN</td>\n",
       "      <td>NaN</td>\n",
       "      <td>NaN</td>\n",
       "      <td>1.114850e+04</td>\n",
       "      <td>1.226443e+06</td>\n",
       "      <td>NaN</td>\n",
       "      <td>NaN</td>\n",
       "    </tr>\n",
       "    <tr>\n",
       "      <th>max</th>\n",
       "      <td>1200.000000</td>\n",
       "      <td>NaN</td>\n",
       "      <td>NaN</td>\n",
       "      <td>NaN</td>\n",
       "      <td>NaN</td>\n",
       "      <td>1.662526e+06</td>\n",
       "      <td>6.675060e+08</td>\n",
       "      <td>NaN</td>\n",
       "      <td>NaN</td>\n",
       "    </tr>\n",
       "  </tbody>\n",
       "</table>\n",
       "</div>"
      ],
      "text/plain": [
       "              index    title  \\\n",
       "count   1200.000000     1200   \n",
       "unique          NaN     1163   \n",
       "top             NaN  فيلم 3D   \n",
       "freq            NaN        4   \n",
       "mean     600.500000      NaN   \n",
       "std      346.554469      NaN   \n",
       "min        1.000000      NaN   \n",
       "25%      300.750000      NaN   \n",
       "50%      600.500000      NaN   \n",
       "75%      900.250000      NaN   \n",
       "max     1200.000000      NaN   \n",
       "\n",
       "                                              description publish_date  \\\n",
       "count                                                1200         1200   \n",
       "unique                                                966          769   \n",
       "top     To license ISU footage: https://bit.ly/3M7bcaF...   2024-11-22   \n",
       "freq                                                   53           28   \n",
       "mean                                                  NaN          NaN   \n",
       "std                                                   NaN          NaN   \n",
       "min                                                   NaN          NaN   \n",
       "25%                                                   NaN          NaN   \n",
       "50%                                                   NaN          NaN   \n",
       "75%                                                   NaN          NaN   \n",
       "max                                                   NaN          NaN   \n",
       "\n",
       "       publish_time         likes         views category  \\\n",
       "count          1200  1.200000e+03  1.200000e+03     1200   \n",
       "unique         1020           NaN           NaN        5   \n",
       "top        17:00:02           NaN           NaN     news   \n",
       "freq             10           NaN           NaN      400   \n",
       "mean            NaN  3.221288e+04  7.381537e+06      NaN   \n",
       "std             NaN  1.145511e+05  3.574763e+07      NaN   \n",
       "min             NaN  0.000000e+00  9.000000e+00      NaN   \n",
       "25%             NaN  2.322500e+02  1.650100e+04      NaN   \n",
       "50%             NaN  2.140000e+03  2.709995e+05      NaN   \n",
       "75%             NaN  1.114850e+04  1.226443e+06      NaN   \n",
       "max             NaN  1.662526e+06  6.675060e+08      NaN   \n",
       "\n",
       "                      channel_id  \n",
       "count                       1200  \n",
       "unique                         6  \n",
       "top     UC16niRr50-MSBwiO3YDb3RA  \n",
       "freq                         200  \n",
       "mean                         NaN  \n",
       "std                          NaN  \n",
       "min                          NaN  \n",
       "25%                          NaN  \n",
       "50%                          NaN  \n",
       "75%                          NaN  \n",
       "max                          NaN  "
      ]
     },
     "execution_count": 16,
     "metadata": {},
     "output_type": "execute_result"
    }
   ],
   "source": [
    "# Display summary statistics for all columns\n",
    "dataset.describe(include='all')"
   ]
  },
  {
   "cell_type": "code",
   "execution_count": 17,
   "id": "d86ca945-9494-43d3-891f-eee917faaa56",
   "metadata": {},
   "outputs": [
    {
     "data": {
      "text/plain": [
       "<Axes: >"
      ]
     },
     "execution_count": 17,
     "metadata": {},
     "output_type": "execute_result"
    },
    {
     "data": {
      "image/png": "[encoded data removed]",
      "text/plain": [
       "<Figure size 640x480 with 1 Axes>"
      ]
     },
     "metadata": {},
     "output_type": "display_data"
    }
   ],
   "source": [
    "dataset['likes'].plot.line(color = 'red')"
   ]
  },
  {
   "cell_type": "code",
   "execution_count": 18,
   "id": "94feb16e-51fa-4cc1-9946-3d6411de3155",
   "metadata": {},
   "outputs": [
    {
     "data": {
      "text/plain": [
       "<Axes: >"
      ]
     },
     "execution_count": 18,
     "metadata": {},
     "output_type": "execute_result"
    },
    {
     "data": {
      "image/png": "[encoded data removed]",
      "text/plain": [
       "<Figure size 640x480 with 1 Axes>"
      ]
     },
     "metadata": {},
     "output_type": "display_data"
    }
   ],
   "source": [
    "dataset['views'].plot.line(color = 'yellow')"
   ]
  },
  {
   "cell_type": "code",
   "execution_count": null,
   "id": "00b70cdb-31f2-468e-8d40-a4c36064c943",
   "metadata": {},
   "outputs": [],
   "source": [
    "# Step 3 : Data Transformation\n",
    "\n",
    "from sklearn.preprocessing import StandardScaler\n",
    "\n",
    "# numeric features\n",
    "numeric_features = ['likes', 'views']\n",
    "\n",
    "# Normlize numeric features using StandardScaler\n",
    "numeric_transformer = StandardScaler()\n",
    "scaler = StandardScaler()\n",
    "\n",
    "# Apply the fit_transform method to the numeric columns\n",
    "dataset[numeric_features] = scaler.fit_transform(dataset[numeric_features])"
   ]
  },
  {
   "cell_type": "code",
   "execution_count": null,
   "id": "5b94b5a7-cbdf-4489-9c58-ab4e90de0c7c",
   "metadata": {},
   "outputs": [],
   "source": [
    "dataset['likes'].plot.line(color = 'red')"
   ]
  },
  {
   "cell_type": "code",
   "execution_count": null,
   "id": "5248beee-f2d6-42a1-9f6b-92a8fc8d5e3e",
   "metadata": {},
   "outputs": [],
   "source": [
    "dataset['views'].plot.line(color = 'yellow')"
   ]
  },
  {
   "cell_type": "code",
   "execution_count": null,
   "id": "c72e5acd-0357-4d83-b417-33a011580e7a",
   "metadata": {},
   "outputs": [],
   "source": [
    "from sklearn.preprocessing import LabelEncoder\n",
    "\n",
    "\n",
    "# LabelEncoder\n",
    "label_encoder = LabelEncoder()\n",
    "# Fit and transform the category column\n",
    "dataset['category_encoded'] = label_encoder.fit_transform(dataset['category'])\n",
    "\n",
    "#  mapping of categories to encoded integers ad dictionary\n",
    "category_mapping = dict(zip(label_encoder.classes_, range(len(label_encoder.classes_))))\n",
    "#label_encoder.classes_ :  array of unique categories found in category column\n",
    "#range(len(label_encoder.classes_)) : range of integers from 0 to the number of unique categories.\n",
    "#zip(label_encoder.classes_, range(len(label_encoder.classes_))) Pairs each category with its corresponding integer.\n",
    "\n",
    "category_mapping"
   ]
  },
  {
   "cell_type": "code",
   "execution_count": null,
   "id": "36ad6b71-3b15-4dbd-8299-ca5b3a293c7f",
   "metadata": {},
   "outputs": [],
   "source": [
    "dataset.head()"
   ]
  },
  {
   "cell_type": "code",
   "execution_count": null,
   "id": "ac4e7b08-a5f2-487f-8695-8634940e6a43",
   "metadata": {},
   "outputs": [],
   "source": [
    "dataset.drop(columns=['index'], inplace=True) #usless coulmn\n",
    "dataset.describe()"
   ]
  },
  {
   "cell_type": "code",
   "execution_count": null,
   "id": "b780cc75-8bbf-452a-b795-62e3998d730f",
   "metadata": {},
   "outputs": [],
   "source": [
    "dataset.boxplot()"
   ]
  },
  {
   "cell_type": "code",
   "execution_count": null,
   "id": "63c4d47f-81f4-46ae-99ec-b3afbfbf3c17",
   "metadata": {},
   "outputs": [],
   "source": [
    "# indices of the top largest views\n",
    "indices = dataset['views'].nlargest(10).index\n",
    "\n",
    "# drop this 10 rows from the dataset\n",
    "dataset = dataset.drop(indices)\n",
    "\n",
    "dataset.boxplot()"
   ]
  },
  {
   "cell_type": "code",
   "execution_count": null,
   "id": "394e06dd-511a-4f01-81f8-e1202ef3b505",
   "metadata": {},
   "outputs": [],
   "source": [
    "# indices of the top largest likes\n",
    "indices = dataset['likes'].nlargest(10).index\n",
    "\n",
    "# drop this 10 rows from the dataset\n",
    "dataset = dataset.drop(indices)\n",
    "\n",
    "dataset.boxplot()"
   ]
  },
  {
   "cell_type": "code",
   "execution_count": null,
   "id": "7ea0dcb7-7136-4215-9556-23a6ac05f600",
   "metadata": {},
   "outputs": [],
   "source": [
    "dataset.info()"
   ]
  },
  {
   "cell_type": "code",
   "execution_count": null,
   "id": "dc91fd5d-e633-49c2-8c87-828d2144e6e0",
   "metadata": {},
   "outputs": [],
   "source": [
    "# step 4 : Feature Engineering\n",
    "# new features\n",
    "dataset['title_length'] = dataset['title'].apply(len)\n",
    "dataset['description_length'] = dataset['description'].apply(len)\n",
    "\n",
    "# show new features\n",
    "dataset[['title', 'title_length', 'description', 'description_length']].head()\n"
   ]
  },
  {
   "cell_type": "code",
   "execution_count": null,
   "id": "d6cd71c9-11d4-4e50-8d55-82ffaf1747b9",
   "metadata": {},
   "outputs": [],
   "source": [
    "# Calculate the likes to views ratio feature\n",
    "dataset['likes_to_views_ratio'] = dataset['likes'] / dataset['views']\n",
    "\n",
    "# Display the new feature and some other columns to verify\n",
    "dataset[['title', 'likes', 'views', 'likes_to_views_ratio']].head()"
   ]
  },
  {
   "cell_type": "code",
   "execution_count": null,
   "id": "4c2d106b-5e1c-49ea-b986-60fbd4bdf270",
   "metadata": {},
   "outputs": [],
   "source": [
    "# Generate histograms for each column \n",
    "dataset.hist(figsize=(10, 8)) "
   ]
  },
  {
   "cell_type": "code",
   "execution_count": null,
   "id": "b766fe53-dab8-445d-9e56-be3edc880aa5",
   "metadata": {},
   "outputs": [],
   "source": []
  }
 ],
 "metadata": {
  "kernelspec": {
   "display_name": "Python 3 (ipykernel)",
   "language": "python",
   "name": "python3"
  },
  "language_info": {
   "codemirror_mode": {
    "name": "ipython",
    "version": 3
   },
   "file_extension": ".py",
   "mimetype": "text/x-python",
   "name": "python",
   "nbconvert_exporter": "python",
   "pygments_lexer": "ipython3",
   "version": "3.12.7"
  }
 },
 "nbformat": 4,
 "nbformat_minor": 5
}
